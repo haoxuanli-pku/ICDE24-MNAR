{
 "cells": [
  {
   "cell_type": "code",
   "execution_count": 9,
   "metadata": {},
   "outputs": [],
   "source": [
    "\"\"\"\n",
    "Convert the rating matrix into conversion rate matrix;\n",
    "Generate the simulated prediction conversion rate matrix.\n",
    "\"\"\"\n",
    "import pickle\n",
    "import numpy as np\n",
    "\n",
    "file = open(\"data/predicted_matrix_100k\", \"rb\")\n",
    "prediction = np.array(pickle.load(file), dtype=float)\n",
    "file.close()\n",
    "prediction = np.clip(prediction, 0, 5)\n",
    "e = 0.05\n",
    "prediction = (prediction - np.min(prediction))/(np.max(prediction) - np.min(prediction))\n",
    "propensity = 2 ** prediction - 1\n",
    "\n",
    "file = open(\"data/synthetic_data_100k\", \"wb\")\n",
    "pickle.dump(prediction, file)\n",
    "pickle.dump(propensity, file)\n",
    "file.close()"
   ]
  }
 ],
 "metadata": {
  "kernelspec": {
   "display_name": "Python [conda env:pytorch-gpu]",
   "language": "python",
   "name": "conda-env-pytorch-gpu-py"
  },
  "language_info": {
   "codemirror_mode": {
    "name": "ipython",
    "version": 3
   },
   "file_extension": ".py",
   "mimetype": "text/x-python",
   "name": "python",
   "nbconvert_exporter": "python",
   "pygments_lexer": "ipython3",
   "version": "3.7.12"
  }
 },
 "nbformat": 4,
 "nbformat_minor": 4
}
